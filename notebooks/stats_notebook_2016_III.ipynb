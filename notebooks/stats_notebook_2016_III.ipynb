{
 "cells": [
  {
   "cell_type": "markdown",
   "metadata": {},
   "source": [
    "## Making a hypothesis\n",
    "\n",
    "Wrapping up what we have discussed so far, we can introduce a more familiar - the Hypothesis. \n",
    "\n",
    "According to Wikipedia a [Hypothesis](https://en.wikipedia.org/wiki/Hypothesis) is a proposed explination about some phenomenon. A hypothesis is by no means a guess, but should be a reasonable argument that explains why something occurrs. That last definition 'reasonable argument' is probably specious (what is 'reasonable'?), but maybe it will direct us to examine how a scientist might think about a hypothsis. \n",
    "\n",
    "In particular, a scientist not only needs to think about reasonable evidence, but needs to express this in a quantitative (yes, qualitative too) manner; hence statistics. A basic statistical approach is to use something called the null hyothesis: **H<sub>0</sub>**.\n",
    "\n",
    "A null hypothesis is what it sounds like - it is a hypothesis that assumes there is no affect or no difference. For example, rather than ask the question, does *Drug X* work? we simply assume that *Drug X* does not work, and then try to prove that hypothesis. In some ways we can think of this as 'not getting our hopes up.' We try to prove that and effect or phenomenon is not real (also see the [Copernican principle](https://en.wikipedia.org/wiki/Copernican_principle)). \n",
    "\n",
    "### Thinking about error\n",
    "\n",
    "When we evaluate our null hypothesis, we end of making a decision - do we reject or accept the null hypothesis?\n",
    "\n",
    "#### Example:\n",
    "\n",
    "**H<sub>0</sub>**: The 10th grade class of Central has an average hight that is identical to the hight of students at all NYC high schools. \n"
   ]
  },
  {
   "cell_type": "markdown",
   "metadata": {},
   "source": [
    "#### Questions:\n",
    "1.Why is the **H<sub>0</sub>** above a null hypothesis?"
   ]
  },
  {
   "cell_type": "code",
   "execution_count": null,
   "metadata": {
    "collapsed": true
   },
   "outputs": [],
   "source": []
  },
  {
   "cell_type": "markdown",
   "metadata": {},
   "source": [
    "2.How would you write the current **H<sub>0</sub>** as a regular hypothesis (not null)?"
   ]
  },
  {
   "cell_type": "code",
   "execution_count": null,
   "metadata": {
    "collapsed": true
   },
   "outputs": [],
   "source": []
  },
  {
   "cell_type": "markdown",
   "metadata": {},
   "source": [
    "When we make a jugment/decision about our hypothesis, we can end up either making a correct (true) choice, but we can also make two different type of mistakes. \n",
    "\n",
    "##### Type I error\n",
    "The Type I error (false positive) happens when we decide the **H<sub>0</sub>**  should be rejected when it was actually false. \n",
    "\n",
    "##### Type II error\n",
    "The Type I error (false negative) happens when we decide the **H<sub>0</sub>**  should be acccpted when it was actually true.\n",
    "\n",
    "![](type-i-and-type-ii-errors.jpg)"
   ]
  },
  {
   "cell_type": "markdown",
   "metadata": {},
   "source": [
    "### Can you complete the following chart:\n",
    "\n",
    "In this chart, there are two correct outomes (there is only one type of correct - correct!) but there are many ways to be wrong (Type I or Type II error). Edit the markdown to complete the chart below"
   ]
  },
  {
   "cell_type": "markdown",
   "metadata": {},
   "source": [
    "|Choice|Assume Null Hypothesis is True|Assume Null Hypothesis is False|\n",
    "|:----:|:----------------------------:|:-----------------------------:|\n",
    "|Accept Null Hypothesis|?|?|\n",
    "|Reject Null Hypothesis|?|?|\n",
    "\n",
    "Tip: Replace the question marks with either: **'Correct'** or **'Type I Error'** or **'Type II Error'**"
   ]
  },
  {
   "cell_type": "markdown",
   "metadata": {},
   "source": [
    "## Chi-Squared, A statistical test for catagorial data\n",
    "\n",
    "Finally, we are ready to think about how to look at M&Ms. To do so we will use a statistical test, which is where all of our previous work was going. The Chi-Squared (χ²) test we will use is calculated as:\n",
    "\n",
    "χ² = [((number of actual observations) - (number of expected observations))\\**2]/(number of expected observations)"
   ]
  },
  {
   "cell_type": "markdown",
   "metadata": {},
   "source": [
    "For example, let's assume in a classrom of 100 students, we expect to see 50 males and 50 females. How would we calculate the χ² value for a classroom where we saw 51 males and 49 females?\n",
    "\n",
    "Males:\n",
    "Observed number (O) = 51\n",
    "Expected number (E) = 50\n",
    "- (O - E) = 1\n",
    "- (O - E)\\**2 = 1\n",
    "- [(O - E)\\**2]/E = 0.02\n",
    "\n",
    "So 0.02 is our χ² value. What does this mean? Nothing yet\n"
   ]
  },
  {
   "cell_type": "markdown",
   "metadata": {},
   "source": [
    "We need to know two more things. The first is easy, we need to know how many choices we could have had - in our classroom, how many possible catagories did we choose from. In our case, only two: Male or Female. We take our number of choices (n), and always subtract 1, to give us **'df'**, our 'degrees of freedom'. Now we can take the 0.02 value to the Chi-squared [chart](https://people.richland.edu/james/lecture/m170/tbl-chi.html). According to this chart with df = 1, the 0.002 value lies somewhere between 0.9 and 0.1. These values are (for our purposes today) probabilities (our chances) that we if we reject our null hypothesis we would be correct. For example, if our probability (p) was 0.5 = rejecting the null, would be right half the time. If our probability (p) was 0.05, we would be right 95% of the time. We will talk more about this later, but let's try an example with our M&Ms "
   ]
  },
  {
   "cell_type": "markdown",
   "metadata": {},
   "source": [
    "## M&Ms and Chi-Squared\n",
    "\n",
    "According to published information, here are the probabilities for M&M colors:\n",
    "\n",
    "|Color|Probability|\n",
    "|-----|-----------|\n",
    "|Blue|0.24|\n",
    "|Brown|0.13|\n",
    "|Green|0.16|\n",
    "|Yellow|0.14|\n",
    "|Red|0.13|\n",
    "|Orange|0.20|\n",
    "\n",
    "#### What is our null hypothesis?\n",
    "Take a guess below? Are the M&Ms you have in your tube the same as any random sample of M&Ms?\n"
   ]
  },
  {
   "cell_type": "code",
   "execution_count": null,
   "metadata": {
    "collapsed": true
   },
   "outputs": [],
   "source": []
  },
  {
   "cell_type": "markdown",
   "metadata": {},
   "source": [
    "Given the above, the complete the following python code by taking your counts of the M&Ms and placing them in code block below:"
   ]
  },
  {
   "cell_type": "code",
   "execution_count": null,
   "metadata": {
    "collapsed": true
   },
   "outputs": [],
   "source": [
    "#Create a dictionary to hold the observations\n",
    "observed_mnm = {}\n",
    "\n",
    "observed_mnm['Brown']   =  2\n",
    "observed_mnm['Blue']    =  3\n",
    "observed_mnm['Red']     =  4\n",
    "observed_mnm['Orange']  =  3\n",
    "observed_mnm['Yellow']  =  2\n",
    "observed_mnm['Green']   =  1"
   ]
  },
  {
   "cell_type": "markdown",
   "metadata": {},
   "source": [
    "In the above code block, we used a new data structure called dictionary. A dictionary works like a list in many ways, except you can call dictionary items by their name, rather than an index number:"
   ]
  },
  {
   "cell_type": "code",
   "execution_count": null,
   "metadata": {
    "collapsed": true
   },
   "outputs": [],
   "source": [
    "my_favs = {'color':'red',\n",
    "           'day':'monday',\n",
    "          'fruit':'bannana'}\n",
    "\n",
    "print(my_favs['color'])\n",
    "print(type(my_favs))"
   ]
  },
  {
   "cell_type": "markdown",
   "metadata": {},
   "source": [
    "To complete our code, we just have to make sure our observation dictionary has all of its values as 'floats' not integers:"
   ]
  },
  {
   "cell_type": "code",
   "execution_count": null,
   "metadata": {
    "collapsed": true
   },
   "outputs": [],
   "source": [
    "observed_mnm['Brown']   =  float(observed_mnm['Brown'] )\n",
    "observed_mnm['Blue']    =  float(observed_mnm['Blue'])\n",
    "observed_mnm['Red']     =  float(observed_mnm['Red'])\n",
    "observed_mnm['Orange']  =  float(observed_mnm['Orange'])\n",
    "observed_mnm['Yellow']  =  float(observed_mnm['Yellow'] )\n",
    "observed_mnm['Green']   =  float(observed_mnm['Green'])\n",
    "\n",
    "print(observed_mnm)"
   ]
  },
  {
   "cell_type": "markdown",
   "metadata": {},
   "source": [
    "Now the rest of the code"
   ]
  },
  {
   "cell_type": "code",
   "execution_count": null,
   "metadata": {
    "collapsed": true
   },
   "outputs": [],
   "source": [
    "#import some special pyton functions\n",
    "import pandas as pd\n",
    "import scipy.stats.mstats as mst\n",
    "\n",
    "#turn the observed_mnm dictionary into a dataframe so we can do math\n",
    "data = pd.DataFrame.from_dict(observed_mnm, orient ='index')\n",
    "# add the name 'observed' to the dataframe\n",
    "data.columns = ['observed']\n",
    "# sum up the observations\n",
    "observations = data.observed.sum()\n",
    "\n",
    "# convert the observations to percentages\n",
    "#data = data / data.sum()\n",
    "# add an 'expected' column and fill in with\n",
    "data['expected'] = ''\n",
    "data.expected['Blue']   = 0.24  * observations\n",
    "data.expected['Brown']  = 0.13  * observations\n",
    "data.expected['Green']  = 0.16  * observations\n",
    "data.expected['Yellow'] = 0.14  * observations\n",
    "data.expected['Red']    = 0.13  * observations\n",
    "data.expected['Orange'] = 0.20  * observations\n",
    "print(data)\n",
    "# Use the stats package to do the ChiSquare test\n",
    "result = mst.chisquare(data.observed,data.expected)\n",
    "print(\"Chi-squared statistic is %f\" %result[0])\n",
    "print(\"p-value is: %f\" %result[1])\n",
    "print(\"Probability null hypothesis is true: %f%%\" %(float(result[1])*100))\n",
    "\n",
    "\n",
    "if  (float(result[1])*100) > 5:\n",
    "    print(\"You should accept the null hypthothesis!\")\n",
    "else:\n",
    "    print(\"You should reject the null hypthothesis!\")"
   ]
  },
  {
   "cell_type": "code",
   "execution_count": 10,
   "metadata": {},
   "outputs": [
    {
     "data": {
      "image/png": "[encoded data removed]",
      "text/plain": [
       "<matplotlib.figure.Figure at 0x10f095da0>"
      ]
     },
     "metadata": {},
     "output_type": "display_data"
    }
   ],
   "source": [
    "from matplotlib import pyplot as mp\n",
    "\n",
    "data = \n",
    "plot1 = mp.hist(data)\n",
    "mp.show(plot1)"
   ]
  },
  {
   "cell_type": "code",
   "execution_count": null,
   "metadata": {
    "collapsed": true
   },
   "outputs": [],
   "source": []
  }
 ],
 "metadata": {
  "kernelspec": {
   "display_name": "Python 3",
   "language": "python",
   "name": "python3"
  },
  "language_info": {
   "codemirror_mode": {
    "name": "ipython",
    "version": 3
   },
   "file_extension": ".py",
   "mimetype": "text/x-python",
   "name": "python",
   "nbconvert_exporter": "python",
   "pygments_lexer": "ipython3",
   "version": "3.6.1"
  }
 },
 "nbformat": 4,
 "nbformat_minor": 1
}
