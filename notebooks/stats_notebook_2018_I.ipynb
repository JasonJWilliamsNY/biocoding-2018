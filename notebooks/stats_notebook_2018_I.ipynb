{
 "cells": [
  {
   "cell_type": "markdown",
   "metadata": {},
   "source": [
    "## Making Observations\n",
    "\n",
    "In this notebook we will begin with some basic observations or data that we can collect to answer our questions about the M&Ms. As it turns out, our observations are two dimensional. What does that mean?"
   ]
  },
  {
   "cell_type": "markdown",
   "metadata": {},
   "source": [
    "## Discussion\n",
    "In the lecture portion of this lesson, we need to address the questions:\n",
    "\n",
    "**What is a qualitative observation?**<br>\n",
    "**What is a quantitative observation?**\n",
    "\n",
    "Depending on your answers, would you say that:\n",
    "** Science should be more qualitative?**\n",
    "** Science should be more quantitative?**\n",
    "\n",
    "In some sense, these questions are preparing us for a journey that we started back in September. If you go back to your notes, you should find one of our first reading assignments [What is This Thing Called Science](https://github.com/JasonJWilliamsNY/science_institute_2015/blob/master/pdfs/what_is_science.pdf). It's strongly suggested that you go back to read this material, having made it this far in the course. After having taken a lot of time to understand some important scientific techniques, we are now going to start looking into some of the more quantitative aspects of the scientific endeavor. "
   ]
  },
  {
   "cell_type": "markdown",
   "metadata": {
    "collapsed": true
   },
   "source": [
    "## What is truth?\n",
    "\n",
    "Without going to deep into the philosphy - [Epistemology](https://en.wikipedia.org/wiki/Epistemology) is the branch of philosopy concerned with knowledge (and strictly speaking [Logic](https://en.wikipedia.org/wiki/Logic) is maybe more directly concerned with truth - let's consider another question:\n",
    "\n",
    "**Is Central a normal New York City High School?**\n",
    "<br>\n",
    "This question is ambigous, normal how? But it is a starting point to asking, is there a quantitative (scientific?) way to measure this?"
   ]
  },
  {
   "cell_type": "markdown",
   "metadata": {},
   "source": [
    "## Statistics\n",
    "\n",
    "[Statistics](https://en.wikipedia.org/wiki/Statistics) is (among other things) a way of using mathematical tools to help us answer quantitative questions - or at least describe quantitatively what we are observing. For example:\n",
    "\n",
    "### Principle 1 - Taking Samples\n",
    "\n",
    "What questions could you ask about the student population of Central to determine if Central is the same or different as other NYC High Schools?\n",
    "\n",
    "What about student high vs. grade? Let's make a hypothetical example:\n",
    "\n",
    "|Grade Level|Mean Height of all NYC Students|Mean Height of all Central Students|\n",
    "|-----------|:------------------------------:|:-----------------------------------:|\n",
    "|9|59.1|61.3|\n",
    "|10|64.3|62.3|\n",
    "|11|65.1|66.0|\n",
    "|12|66.2|67.5|\n",
    "\n",
    "In this hypothetical example, if we look at the height of the students, would you say NYC students in general are the same as Central students? \n",
    "\n",
    "What we we have done is taken a sample, and an unusual one at that; can you name at least 3 reasons why?\n",
    "\n",
    "What observations (samples) could we make that would emphasize or de-emphasize the similarities between NYC and Central Students?"
   ]
  },
  {
   "cell_type": "markdown",
   "metadata": {},
   "source": [
    "### Principle 2 - Describing: the same or different?\n",
    "\n",
    "As you are probably aware, there are some specific technical terms that we make use of in statistics. Some basic ones include:\n",
    "\n",
    "\n",
    "- **Mean (Average)**: the sum of the observations divided by the total number of observations\n",
    "- **Median**: the number that is in the exact middle of a set of observations\n",
    "- **Mode**: this is the number the occurs the most frequently in a set of observations \n",
    "\n",
    "\n",
    "\n",
    "\n"
   ]
  },
  {
   "cell_type": "markdown",
   "metadata": {},
   "source": [
    "#### Python Example\n",
    "Let's use Python to calculate these statistical terms. Given the following observations, how would you calculate the mean?\n",
    "\n",
    "|Day|Rainfall (cm)|\n",
    "|---|-------------|\n",
    "|1|3.2|\n",
    "|2|2.8|\n",
    "|3|9.6|\n",
    "|4|0|\n",
    "|5|1.2|\n",
    "|6|14.2|\n",
    "|7|2.5|\n",
    "\n"
   ]
  },
  {
   "cell_type": "markdown",
   "metadata": {},
   "source": [
    "We have 7 observations, so how can we pass this information to Python. One way is to do this as a [list](https://docs.python.org/3.1/tutorial/datastructures.html). A list is just what it sounds like, it is a ordered set of other python data types (like integers, strings, or even lists). \n",
    "\n",
    "We create a list by giving Python the name of the list, and then putting the list items inside a set of square brackets [  ]. The items in the list must be seperated with a comma. "
   ]
  },
  {
   "cell_type": "code",
   "execution_count": null,
   "metadata": {},
   "outputs": [],
   "source": [
    "# Create a list called 'rain_observations' and enter in the variables\n",
    "# from the chart above\n",
    "rain_observations = [3.2,2.8,9.6,0,1.2,14.2,2.5]\n",
    "print(rain_observations)"
   ]
  },
  {
   "cell_type": "code",
   "execution_count": null,
   "metadata": {},
   "outputs": [],
   "source": [
    "# How would you take all of these observations and take the sum divide by\n",
    "# the total to determine the mean?\n",
    "\n",
    "# We can get the total number of observations by asking python what is the \n",
    "# 'length' of the list\n",
    "\n",
    "print(len(rain_observations))"
   ]
  },
  {
   "cell_type": "code",
   "execution_count": null,
   "metadata": {},
   "outputs": [],
   "source": [
    "# printing the answer is nice, but let's save it. \n",
    "\n",
    "number_of_observations = len(rain_observations)"
   ]
  },
  {
   "cell_type": "code",
   "execution_count": null,
   "metadata": {},
   "outputs": [],
   "source": [
    "# Now we need to take the sum of all of the observations.\n",
    "# to get an element from a list, we can call it by its index\n",
    "# remember, the list is indexed from 0..n where n is the last element\n",
    "# so...\n",
    "\n",
    "print('the first observation is',rain_observations[0])\n",
    "print('the second observation is',rain_observations[1])\n"
   ]
  },
  {
   "cell_type": "code",
   "execution_count": null,
   "metadata": {},
   "outputs": [],
   "source": [
    "\n",
    "# how would you calculate the sum of all the observations?\n",
    "\n",
    "sum_of_observations = rain_observations[0]+rain_observations[1]\n",
    "\n",
    "# given the sum of the observations and the number of observations...\n",
    "\n",
    "mean_observation = '?'\n"
   ]
  },
  {
   "cell_type": "markdown",
   "metadata": {},
   "source": [
    "In real life however, most people will just do this:"
   ]
  },
  {
   "cell_type": "code",
   "execution_count": null,
   "metadata": {},
   "outputs": [],
   "source": [
    "import numpy\n",
    "mean_observation = numpy.mean(rain_observations)\n",
    "print('mean observation is',mean_observation)\n",
    "\n"
   ]
  },
  {
   "cell_type": "markdown",
   "metadata": {},
   "source": [
    "These calculations are a begining of asking a question: are two samples the same or different?\n",
    "\n",
    "Take for example the following situation, where a two dimensional observation (x and y) are plotted on a graph:\n",
    "\n",
    "|Statistical description|Sample X1|Sample X2|Sample X3|Sample X4|\n",
    "|-----------------------|---------|---------|---------|---------|\n",
    "|Mean (x-coordinate)|9|9|9|9|\n",
    "|Mean (y-coordinate)|7.5|7.5|7.5|7.5|\n",
    "|Varience of X|11|11|11|11|\n",
    "|Varience of Y|4.122|4.122|4.122|4.122|\n",
    "|Corelation of X and Y|0.816|0.816|0.816|0.816|\n",
    "|Linear regression|y = 3.00 + 0.500x|y = 3.00 + 0.500x|y = 3.00 + 0.500x|y = 3.00 + 0.500x|\n",
    "\n",
    "Same or different?\n",
    "\n",
    "What is the result when plotted:\n",
    "![](anscombe_quartet_3.png)\n",
    "\n",
    "We'll talk more about this later. "
   ]
  },
  {
   "cell_type": "markdown",
   "metadata": {},
   "source": [
    "## Python Challenge - Plotting Data\n"
   ]
  },
  {
   "cell_type": "markdown",
   "metadata": {},
   "source": [
    "In our example, we are going to look at samples of M&M canides and ask if different tubes of M&Ms are the same or different from each other. How can we use statsical tools to give us answers, and minimize the chance we will be fooled by the results. We will get to some answers, but first, let's talk about the samples we have in class. To complete this exercise you will need data from all of your classmates. Assume that we examine tubes 1-8. How would you complete the following:\n",
    "\n",
    "Given Tube 0:\n",
    "\n",
    "|Sample name|Blue|Brown|Green|Orange|Red|Yellow|\n",
    "|-----------|----|-----|-----|------|---|------|\n",
    "|Tube 0|22|13|21|18|8|17|"
   ]
  },
  {
   "cell_type": "code",
   "execution_count": null,
   "metadata": {
    "collapsed": true
   },
   "outputs": [],
   "source": [
    "# Assume that we are going to enter the colors alphabetical order\n",
    "# So \n",
    "\n",
    "Tube_0 = [22,13,21,18,8,17]\n",
    "\n"
   ]
  },
  {
   "cell_type": "code",
   "execution_count": null,
   "metadata": {},
   "outputs": [],
   "source": [
    "# How would you calculate the mean for the Blue M&Ms if we had 3 tubes to\n",
    "# count? Hint: Tube_0[0] = 22, Tube_0[1] = 13"
   ]
  },
  {
   "cell_type": "markdown",
   "metadata": {},
   "source": [
    "We can also make a chart of our observations. To do this we will import the matlibplot library:"
   ]
  },
  {
   "cell_type": "code",
   "execution_count": null,
   "metadata": {},
   "outputs": [],
   "source": [
    "import numpy as np\n",
    "import matplotlib.pyplot as plot\n",
    "% matplotlib inline"
   ]
  },
  {
   "cell_type": "code",
   "execution_count": null,
   "metadata": {},
   "outputs": [],
   "source": [
    "# Plot your observations \n",
    "\n",
    "observations = Tube_0\n",
    "n = len(observations)\n",
    "index = np.arange(n)\n",
    "colors = ['blue',\n",
    "          'brown',\n",
    "          'green',\n",
    "          'orange',\n",
    "          'red',\n",
    "          'yellow']\n",
    "plot_1 = plot.bar(index,\n",
    "              observations,\n",
    "              color=colors,\n",
    "              tick_label=colors,\n",
    "              align='center')\n",
    "plot.show(plot_1)\n",
    " "
   ]
  },
  {
   "cell_type": "code",
   "execution_count": null,
   "metadata": {},
   "outputs": [],
   "source": [
    "# How would you make a plot for all of the tubes in the class?\n",
    "# Hint - to give a title to a plot use the plot.title() function"
   ]
  }
 ],
 "metadata": {
  "kernelspec": {
   "display_name": "Python 3",
   "language": "python",
   "name": "python3"
  },
  "language_info": {
   "codemirror_mode": {
    "name": "ipython",
    "version": 3
   },
   "file_extension": ".py",
   "mimetype": "text/x-python",
   "name": "python",
   "nbconvert_exporter": "python",
   "pygments_lexer": "ipython3",
   "version": "3.6.5"
  }
 },
 "nbformat": 4,
 "nbformat_minor": 1
}
