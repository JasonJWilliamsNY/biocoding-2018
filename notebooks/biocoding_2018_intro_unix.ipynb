{
 "cells": [
  {
   "cell_type": "markdown",
   "metadata": {},
   "source": [
    "# Intoduction to Unix"
   ]
  },
  {
   "cell_type": "markdown",
   "metadata": {},
   "source": [
    "Unix - more specifically [Linux](https://en.wikipedia.org/wiki/Linux) is the major operating system for science, including for bioinformatics. While there is a lot to learn about Linux, we will focus on the absolut basics for working with data"
   ]
  },
  {
   "cell_type": "markdown",
   "metadata": {},
   "source": [
    "## Get to know your computer"
   ]
  },
  {
   "cell_type": "markdown",
   "metadata": {},
   "source": [
    "Commonly, we may working on a computer that is not our own personal computer. For example, these notebooks are executing on a remote server. Before you start to work, it will be useful to use a few commands to find out what system you are working on, and what are its capabilities."
   ]
  },
  {
   "cell_type": "markdown",
   "metadata": {},
   "source": [
    "To check your user name you can use the following command"
   ]
  },
  {
   "cell_type": "code",
   "execution_count": 1,
   "metadata": {},
   "outputs": [
    {
     "name": "stdout",
     "output_type": "stream",
     "text": [
      "williams\n"
     ]
    }
   ],
   "source": [
    "whoami"
   ]
  },
  {
   "cell_type": "markdown",
   "metadata": {},
   "source": [
    "Your user name is connected to the location of your home directory, and every user has assigned permissions (for example, which programs they can run and which files they can run and edit). "
   ]
  },
  {
   "cell_type": "markdown",
   "metadata": {},
   "source": [
    "Next, let's get some information about your computer. "
   ]
  },
  {
   "cell_type": "code",
   "execution_count": 4,
   "metadata": {},
   "outputs": [
    {
     "name": "stdout",
     "output_type": "stream",
     "text": [
      "processor\t: 0\n",
      "vendor_id\t: GenuineIntel\n",
      "cpu family\t: 6\n",
      "model\t\t: 58\n",
      "model name\t: Intel(R) Core(TM) i5-3210M CPU @ 2.50GHz\n",
      "stepping\t: 9\n",
      "cpu MHz\t\t: 2492.349\n",
      "cache size\t: 3072 KB\n",
      "physical id\t: 0\n",
      "siblings\t: 1\n",
      "core id\t\t: 0\n",
      "cpu cores\t: 1\n",
      "apicid\t\t: 0\n",
      "initial apicid\t: 0\n",
      "fpu\t\t: yes\n",
      "fpu_exception\t: yes\n",
      "cpuid level\t: 13\n",
      "wp\t\t: yes\n",
      "flags\t\t: fpu vme de pse tsc msr pae mce cx8 apic sep mtrr pge mca cmov pat pse36 clflush mmx fxsr sse sse2 ss ht pbe syscall nx lm constant_tsc rep_good nopl xtopology nonstop_tsc eagerfpu pni pclmulqdq dtes64 ds_cpl ssse3 cx16 xtpr pcid sse4_1 sse4_2 popcnt aes xsave avx f16c rdrand hypervisor lahf_lm kaiser fsgsbase erms xsaveopt arat\n",
      "bugs\t\t: cpu_meltdown spectre_v1 spectre_v2\n",
      "bogomips\t: 4984.69\n",
      "clflush size\t: 64\n",
      "cache_alignment\t: 64\n",
      "address sizes\t: 36 bits physical, 48 bits virtual\n",
      "power management:\n",
      "\n",
      "processor\t: 1\n",
      "vendor_id\t: GenuineIntel\n",
      "cpu family\t: 6\n",
      "model\t\t: 58\n",
      "model name\t: Intel(R) Core(TM) i5-3210M CPU @ 2.50GHz\n",
      "stepping\t: 9\n",
      "cpu MHz\t\t: 2492.349\n",
      "cache size\t: 3072 KB\n",
      "physical id\t: 1\n",
      "siblings\t: 1\n",
      "core id\t\t: 0\n",
      "cpu cores\t: 1\n",
      "apicid\t\t: 1\n",
      "initial apicid\t: 1\n",
      "fpu\t\t: yes\n",
      "fpu_exception\t: yes\n",
      "cpuid level\t: 13\n",
      "wp\t\t: yes\n",
      "flags\t\t: fpu vme de pse tsc msr pae mce cx8 apic sep mtrr pge mca cmov pat pse36 clflush mmx fxsr sse sse2 ss ht pbe syscall nx lm constant_tsc rep_good nopl xtopology nonstop_tsc eagerfpu pni pclmulqdq dtes64 ds_cpl ssse3 cx16 xtpr pcid sse4_1 sse4_2 popcnt aes xsave avx f16c rdrand hypervisor lahf_lm kaiser fsgsbase erms xsaveopt arat\n",
      "bugs\t\t: cpu_meltdown spectre_v1 spectre_v2\n",
      "bogomips\t: 4943.05\n",
      "clflush size\t: 64\n",
      "cache_alignment\t: 64\n",
      "address sizes\t: 36 bits physical, 48 bits virtual\n",
      "power management:\n",
      "\n"
     ]
    }
   ],
   "source": [
    "cat /proc/cpuinfo "
   ]
  },
  {
   "cell_type": "markdown",
   "metadata": {},
   "source": [
    "Every processor is numbered (0 though n). For each processor we get some information on its capabilities. "
   ]
  },
  {
   "cell_type": "markdown",
   "metadata": {},
   "source": [
    "Next, we may wish to know how much space is available on our hard drive. To see this we can use the following command:"
   ]
  },
  {
   "cell_type": "code",
   "execution_count": 5,
   "metadata": {},
   "outputs": [
    {
     "name": "stdout",
     "output_type": "stream",
     "text": [
      "Filesystem     1K-blocks      Used Available Use% Mounted on\n",
      "overlay         61255492   4513640  53600528   8% /\n",
      "tmpfs              65536         0     65536   0% /dev\n",
      "tmpfs            1023472         0   1023472   0% /sys/fs/cgroup\n",
      "osxfs          118284248 108615732   5870964  95% /jupyter-persistant\n",
      "/dev/sda1       61255492   4513640  53600528   8% /etc/hosts\n",
      "shm                65536         0     65536   0% /dev/shm\n",
      "tmpfs            1023472         0   1023472   0% /sys/firmware\n"
     ]
    }
   ],
   "source": [
    "df"
   ]
  },
  {
   "cell_type": "markdown",
   "metadata": {},
   "source": [
    "The amount of space (in [bytes](https://en.wikipedia.org/wiki/Byte)) is displayed; we can see what is used, and what is available space. Reading in bytes can be a bit difficult. How much space is available in MB or GB? We can use the same command, but we need to pass the command an argument to modify its behavior. To check the available arguments (also called options), we can consult the manual for this program [https://linux.die.net/man/1/df]. "
   ]
  },
  {
   "cell_type": "code",
   "execution_count": 7,
   "metadata": {},
   "outputs": [
    {
     "name": "stdout",
     "output_type": "stream",
     "text": [
      "Filesystem      Size  Used Avail Use% Mounted on\n",
      "overlay          59G  4.4G   52G   8% /\n",
      "tmpfs            64M     0   64M   0% /dev\n",
      "tmpfs          1000M     0 1000M   0% /sys/fs/cgroup\n",
      "osxfs           113G  104G  5.6G  95% /jupyter-persistant\n",
      "/dev/sda1        59G  4.4G   52G   8% /etc/hosts\n",
      "shm              64M     0   64M   0% /dev/shm\n",
      "tmpfs          1000M     0 1000M   0% /sys/firmware\n"
     ]
    }
   ],
   "source": [
    "df -h"
   ]
  },
  {
   "cell_type": "markdown",
   "metadata": {},
   "source": [
    "**Question: How much space is available on `/`?**"
   ]
  },
  {
   "cell_type": "markdown",
   "metadata": {},
   "source": [
    "This will depend on the server this notebook is running on."
   ]
  }
 ],
 "metadata": {
  "kernelspec": {
   "display_name": "Bash",
   "language": "bash",
   "name": "bash"
  },
  "language_info": {
   "codemirror_mode": "shell",
   "file_extension": ".sh",
   "mimetype": "text/x-sh",
   "name": "bash"
  }
 },
 "nbformat": 4,
 "nbformat_minor": 2
}
