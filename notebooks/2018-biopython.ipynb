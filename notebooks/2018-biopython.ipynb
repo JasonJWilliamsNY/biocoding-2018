{
 "cells": [
  {
   "cell_type": "markdown",
   "metadata": {},
   "source": [
    "# BioPython Tutorial\n",
    "\n",
    "[Biopython](https://biopython.org/) is a module with a variety of functions that are useful for working with sequence data. We will use the following examples to help you make use of sequence data. "
   ]
  },
  {
   "cell_type": "markdown",
   "metadata": {},
   "source": [
    "## Using BioPython to examine sequence files\n",
    "\n",
    "Your sequence data are in the `.ab1` format. This format is common for Sanger sequencing data. First, let's take a look at the files:"
   ]
  },
  {
   "cell_type": "code",
   "execution_count": null,
   "metadata": {},
   "outputs": [],
   "source": [
    "!ls Biocoding-july-2018"
   ]
  },
  {
   "cell_type": "markdown",
   "metadata": {},
   "source": [
    "Let's just choose a single file `Student_1-M13F.ab1` to open and explore with BioPython: "
   ]
  },
  {
   "cell_type": "code",
   "execution_count": null,
   "metadata": {},
   "outputs": [],
   "source": [
    "# import SeqIO from the Bio library/module\n",
    "# SeqIO lets us handle the file (open and read from it)\n",
    "from Bio import SeqIO\n",
    " \n",
    "# specify the path of the file\n",
    "file_path = \"/Users/jasonwilliams/Desktop/Biocoding-july-2018/Student_1-M13F.ab1\"\n",
    " \n",
    "# We create an \"object\" using the SeqIO.read function \n",
    "sequence_object = SeqIO.read(open(file_path,\"rb\"),\"abi\")  \n",
    "\n",
    "#Next, use the .format method to extract the DNA sequence in FASTA format\n",
    "fasta_sequence = sequence_object.format(\"fasta\")\n",
    "print(fasta_sequence) \n",
    "\n",
    "# What other methods are associated with the sequence object?\n",
    "# See a full list at https://biopython.org/wiki/SeqIO\n",
    " \n",
    "# get the quality scores for each base\n",
    "quals = sequence_object.letter_annotations['phred_quality']\n",
    "print(quals)\n",
    "print(len(quals))\n",
    "\n"
   ]
  },
  {
   "cell_type": "markdown",
   "metadata": {},
   "source": [
    "We could also plot our quality score as a histogram:"
   ]
  },
  {
   "cell_type": "code",
   "execution_count": null,
   "metadata": {},
   "outputs": [],
   "source": [
    "# Since quals is a list, what would it look like to plot this...\n",
    "\n",
    "import numpy as np\n",
    "import matplotlib.mlab as mlab\n",
    "import matplotlib.pyplot as plt\n",
    "% matplotlib inline\n",
    "\n",
    "plot = plt.hist(quals, facecolor='blue', alpha=0.75)\n",
    "\n",
    "plt.xlabel('Phred Scores')\n",
    "plt.ylabel('Number of nucleotides')\n",
    "plt.title('Histogram of Phred scores')\n",
    "\n",
    "plt.show()"
   ]
  },
  {
   "cell_type": "code",
   "execution_count": null,
   "metadata": {},
   "outputs": [],
   "source": [
    "import numpy as np                                                               \n",
    "import matplotlib.pyplot as plt\n",
    "% matplotlib inline\n",
    "\n",
    "xs = np.arange(len(quals)) \n",
    "width = 10\n",
    "\n",
    "plt.plot(xs, quals)\n",
    "\n",
    "plt.show()"
   ]
  },
  {
   "cell_type": "code",
   "execution_count": null,
   "metadata": {},
   "outputs": [],
   "source": [
    "channels = ['DATA9', 'DATA10', 'DATA11', 'DATA12']\n",
    "from collections import defaultdict\n",
    "trace = defaultdict(list)\n",
    "for c in channels:\n",
    "    trace[c] = sequence_object.annotations['abif_raw'][c]\n",
    "\n",
    "plt.plot(trace['DATA9'][::10], color='blue')\n",
    "plt.plot(trace['DATA10'][::10], color='red')\n",
    "plt.plot(trace['DATA11'][::10], color='green')\n",
    "plt.plot(trace['DATA12'][::10], color='yellow')\n",
    "\n",
    "plt.show()"
   ]
  },
  {
   "cell_type": "markdown",
   "metadata": {},
   "source": [
    "## Blasting a sequence\n",
    "\n",
    "Next, let's search NCBI to see what matches we can return from our sequence. This may take up to a few minutes"
   ]
  },
  {
   "cell_type": "code",
   "execution_count": null,
   "metadata": {},
   "outputs": [],
   "source": [
    "from Bio.Blast import NCBIWWW\n",
    "from Bio.Blast import NCBIXML\n",
    "\n",
    "#blast the sequence result using blastn, against the\n",
    "#nr database, evalue of 0.0001, return top 5 hits\n",
    "blast_result = NCBIWWW.qblast('blastn','nt',fasta_sequence, expect = 0.0001, hitlist_size=5) \n",
    "\n",
    "blast_record = NCBIXML.read(blast_result)\n",
    "\n",
    "# print the blast hit results\n",
    "\n",
    "for records in blast_record.alignments:\n",
    "    print(records)"
   ]
  },
  {
   "cell_type": "markdown",
   "metadata": {},
   "source": [
    "# Where to go next\n",
    "\n",
    "See a whole list of BioPython tutorials that you can use in putting together your own notebook...http://biopython.org/DIST/docs/tutorial/Tutorial.html\n"
   ]
  }
 ],
 "metadata": {
  "kernelspec": {
   "display_name": "Python 3",
   "language": "python",
   "name": "python3"
  },
  "language_info": {
   "codemirror_mode": {
    "name": "ipython",
    "version": 3
   },
   "file_extension": ".py",
   "mimetype": "text/x-python",
   "name": "python",
   "nbconvert_exporter": "python",
   "pygments_lexer": "ipython3",
   "version": "3.6.1"
  }
 },
 "nbformat": 4,
 "nbformat_minor": 2
}
